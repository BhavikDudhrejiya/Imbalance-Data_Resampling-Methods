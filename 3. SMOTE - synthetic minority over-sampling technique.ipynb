{
 "cells": [
  {
   "cell_type": "code",
   "execution_count": 1,
   "metadata": {},
   "outputs": [],
   "source": [
    "#Importing libraries\n",
    "import numpy as np\n",
    "import pandas as pd\n",
    "import seaborn as sns\n",
    "import matplotlib.pyplot as plt\n",
    "from imblearn.over_sampling import SMOTE, SMOTENC, BorderlineSMOTE, SVMSMOTE, ADASYN, KMeansSMOTE\n",
    "from sklearn.datasets import load_breast_cancer"
   ]
  },
  {
   "cell_type": "code",
   "execution_count": 3,
   "metadata": {},
   "outputs": [],
   "source": [
    "#Loading data\n",
    "data = load_breast_cancer()"
   ]
  },
  {
   "cell_type": "code",
   "execution_count": 12,
   "metadata": {},
   "outputs": [
    {
     "data": {
      "text/plain": [
       "((569, 30), (569, 1))"
      ]
     },
     "execution_count": 12,
     "metadata": {},
     "output_type": "execute_result"
    }
   ],
   "source": [
    "#Splitting the data into X & y\n",
    "X = pd.DataFrame(data.data, columns=data.feature_names)\n",
    "y = pd.DataFrame(data.target, columns=['target'])\n",
    "X.shape, y.shape"
   ]
  },
  {
   "cell_type": "code",
   "execution_count": 16,
   "metadata": {},
   "outputs": [
    {
     "data": {
      "text/plain": [
       "target\n",
       "1         357\n",
       "0         212\n",
       "dtype: int64"
      ]
     },
     "execution_count": 16,
     "metadata": {},
     "output_type": "execute_result"
    }
   ],
   "source": [
    "#Checking count\n",
    "y.value_counts()"
   ]
  },
  {
   "cell_type": "code",
   "execution_count": 17,
   "metadata": {},
   "outputs": [
    {
     "data": {
      "text/plain": [
       "target\n",
       "1         62.741652\n",
       "0         37.258348\n",
       "dtype: float64"
      ]
     },
     "execution_count": 17,
     "metadata": {},
     "output_type": "execute_result"
    }
   ],
   "source": [
    "#Checking event rate\n",
    "y.value_counts()/y.shape[0]*100"
   ]
  },
  {
   "cell_type": "code",
   "execution_count": 23,
   "metadata": {},
   "outputs": [
    {
     "data": {
      "text/html": [
       "<div>\n",
       "<style scoped>\n",
       "    .dataframe tbody tr th:only-of-type {\n",
       "        vertical-align: middle;\n",
       "    }\n",
       "\n",
       "    .dataframe tbody tr th {\n",
       "        vertical-align: top;\n",
       "    }\n",
       "\n",
       "    .dataframe thead th {\n",
       "        text-align: right;\n",
       "    }\n",
       "</style>\n",
       "<table border=\"1\" class=\"dataframe\">\n",
       "  <thead>\n",
       "    <tr style=\"text-align: right;\">\n",
       "      <th></th>\n",
       "      <th>technique</th>\n",
       "      <th>X_shape</th>\n",
       "      <th>y_shape</th>\n",
       "      <th>target_0</th>\n",
       "      <th>target_1</th>\n",
       "    </tr>\n",
       "  </thead>\n",
       "  <tbody>\n",
       "    <tr>\n",
       "      <th>0</th>\n",
       "      <td>Original Data</td>\n",
       "      <td>569</td>\n",
       "      <td>569</td>\n",
       "      <td>target\n",
       "0         212\n",
       "dtype: int64</td>\n",
       "      <td>target\n",
       "1         357\n",
       "dtype: int64</td>\n",
       "    </tr>\n",
       "  </tbody>\n",
       "</table>\n",
       "</div>"
      ],
      "text/plain": [
       "       technique  X_shape  y_shape                           target_0  \\\n",
       "0  Original Data      569      569  target\n",
       "0         212\n",
       "dtype: int64   \n",
       "\n",
       "                            target_1  \n",
       "0  target\n",
       "1         357\n",
       "dtype: int64  "
      ]
     },
     "execution_count": 23,
     "metadata": {},
     "output_type": "execute_result"
    }
   ],
   "source": [
    "#Creating a dataframe which will capture the count of X & y with different techniques\n",
    "data_table = pd.DataFrame()\n",
    "data_table['technique'] = ['Original Data']\n",
    "data_table['X_shape'] = [X.shape[0]]\n",
    "data_table['y_shape'] = [y.shape[0]]\n",
    "data_table['target_0']=[y.value_counts()[0]]\n",
    "data_table['target_1']=[y.value_counts()[1]]\n",
    "data_table"
   ]
  },
  {
   "cell_type": "markdown",
   "metadata": {},
   "source": [
    "# SMOTE"
   ]
  },
  {
   "cell_type": "code",
   "execution_count": 20,
   "metadata": {},
   "outputs": [],
   "source": [
    "#Performing SMOTE\n",
    "smote = SMOTE(sampling_strategy='minority')\n",
    "X_sm, y_sm = smote.fit_sample(X,y)"
   ]
  },
  {
   "cell_type": "code",
   "execution_count": 21,
   "metadata": {},
   "outputs": [
    {
     "data": {
      "text/plain": [
       "((714, 30), (714, 1))"
      ]
     },
     "execution_count": 21,
     "metadata": {},
     "output_type": "execute_result"
    }
   ],
   "source": [
    "#Checking the shape of the data\n",
    "X_sm.shape, y_sm.shape\n",
    "#573518*2"
   ]
  },
  {
   "cell_type": "code",
   "execution_count": 24,
   "metadata": {},
   "outputs": [
    {
     "data": {
      "text/html": [
       "<div>\n",
       "<style scoped>\n",
       "    .dataframe tbody tr th:only-of-type {\n",
       "        vertical-align: middle;\n",
       "    }\n",
       "\n",
       "    .dataframe tbody tr th {\n",
       "        vertical-align: top;\n",
       "    }\n",
       "\n",
       "    .dataframe thead th {\n",
       "        text-align: right;\n",
       "    }\n",
       "</style>\n",
       "<table border=\"1\" class=\"dataframe\">\n",
       "  <thead>\n",
       "    <tr style=\"text-align: right;\">\n",
       "      <th></th>\n",
       "      <th>technique</th>\n",
       "      <th>X_shape</th>\n",
       "      <th>y_shape</th>\n",
       "      <th>target_0</th>\n",
       "      <th>target_1</th>\n",
       "    </tr>\n",
       "  </thead>\n",
       "  <tbody>\n",
       "    <tr>\n",
       "      <th>0</th>\n",
       "      <td>Original Data</td>\n",
       "      <td>569</td>\n",
       "      <td>569</td>\n",
       "      <td>target\n",
       "0         212\n",
       "dtype: int64</td>\n",
       "      <td>target\n",
       "1         357\n",
       "dtype: int64</td>\n",
       "    </tr>\n",
       "    <tr>\n",
       "      <th>1</th>\n",
       "      <td>SMOTE</td>\n",
       "      <td>714</td>\n",
       "      <td>714</td>\n",
       "      <td>target\n",
       "0         357\n",
       "dtype: int64</td>\n",
       "      <td>target\n",
       "1         357\n",
       "dtype: int64</td>\n",
       "    </tr>\n",
       "  </tbody>\n",
       "</table>\n",
       "</div>"
      ],
      "text/plain": [
       "       technique  X_shape  y_shape                           target_0  \\\n",
       "0  Original Data      569      569  target\n",
       "0         212\n",
       "dtype: int64   \n",
       "1          SMOTE      714      714  target\n",
       "0         357\n",
       "dtype: int64   \n",
       "\n",
       "                            target_1  \n",
       "0  target\n",
       "1         357\n",
       "dtype: int64  \n",
       "1  target\n",
       "1         357\n",
       "dtype: int64  "
      ]
     },
     "execution_count": 24,
     "metadata": {},
     "output_type": "execute_result"
    }
   ],
   "source": [
    "#Updating data table\n",
    "new_row2 = {'technique':'SMOTE',\n",
    " 'X_shape':X_sm.shape[0],\n",
    " 'y_shape':y_sm.shape[0],\n",
    " 'target_0': y_sm.value_counts()[0],\n",
    " 'target_1': y_sm.value_counts()[1]}\n",
    "data_table=data_table.append(new_row2, ignore_index=True)\n",
    "data_table"
   ]
  },
  {
   "cell_type": "code",
   "execution_count": 27,
   "metadata": {},
   "outputs": [
    {
     "name": "stdout",
     "output_type": "stream",
     "text": [
      "SMOTE() (714, 30) (714, 1)\n",
      "BorderlineSMOTE() (714, 30) (714, 1)\n",
      "SVMSMOTE() (714, 30) (714, 1)\n",
      "ADASYN() (715, 30) (715, 1)\n",
      "KMeansSMOTE() (717, 30) (717, 1)\n"
     ]
    }
   ],
   "source": [
    "#Creating Over Sampling with different SMOTE techniques\n",
    "smote = SMOTE()\n",
    "#smotetenc = SMOTENC()\n",
    "b_smote =BorderlineSMOTE()\n",
    "svm_smote =SVMSMOTE()\n",
    "adasyn = ADASYN()\n",
    "kmean_smote = KMeansSMOTE()\n",
    "\n",
    "for model in [smote,b_smote,svm_smote,adasyn,kmean_smote]:\n",
    "    x_s,y_s=model.fit_sample(X,y)\n",
    "    print(model, x_s.shape, y_s.shape)"
   ]
  }
 ],
 "metadata": {
  "kernelspec": {
   "display_name": "Python 3",
   "language": "python",
   "name": "python3"
  },
  "language_info": {
   "codemirror_mode": {
    "name": "ipython",
    "version": 3
   },
   "file_extension": ".py",
   "mimetype": "text/x-python",
   "name": "python",
   "nbconvert_exporter": "python",
   "pygments_lexer": "ipython3",
   "version": "3.8.6"
  },
  "toc": {
   "base_numbering": 1,
   "nav_menu": {},
   "number_sections": true,
   "sideBar": true,
   "skip_h1_title": false,
   "title_cell": "Table of Contents",
   "title_sidebar": "Contents",
   "toc_cell": false,
   "toc_position": {},
   "toc_section_display": true,
   "toc_window_display": false
  }
 },
 "nbformat": 4,
 "nbformat_minor": 4
}
